{
 "cells": [
  {
   "cell_type": "code",
   "execution_count": 7,
   "id": "6c4b0f4c-9698-4dae-a9f7-19e44df9a456",
   "metadata": {},
   "outputs": [],
   "source": [
    "#vkarva moduli duh\n",
    "import numpy as np\n",
    "import matplotlib.pyplot as plt\n",
    "plt.ion()\n",
    "from astropy.io import fits \n",
    "from astropy.table import Table"
   ]
  },
  {
   "cell_type": "code",
   "execution_count": 33,
   "id": "6c7bb4f5-fecf-482c-96dc-62f66f1a24ea",
   "metadata": {},
   "outputs": [
    {
     "name": "stdout",
     "output_type": "stream",
     "text": [
      "7\n",
      "False\n"
     ]
    }
   ],
   "source": [
    "# This is Exercise 1, lesson 2 (boolean operator type)\n",
    "#we use the logical operators and/or\n",
    "x = 7\n",
    "bol = x > 3 and x <= 6.6 or x == 2\n",
    "print(x)\n",
    "print(bol)"
   ]
  },
  {
   "cell_type": "code",
   "execution_count": 61,
   "id": "1b45a0d1-dced-47fb-bfd4-5634bfcdc106",
   "metadata": {},
   "outputs": [
    {
     "name": "stdout",
     "output_type": "stream",
     "text": [
      "06h45m08.917s\n"
     ]
    }
   ],
   "source": [
    "#This is Exercise 2, lesson 2 (Dictionaries)\n",
    "#dict = {\"ra\":\"Right Ascension\", \"de\":\"Declination\", \"F\":\"flux\", \"random number i chose\":8}\n",
    "#print(dict['ra'], dict['F'], dict['random number i chose'])\n",
    "\n",
    "Sirius = {\"RA\":\"06h45m08.917s\", \"DE\":'−16° 42′ 58.02″', \"V_mag\":-1.46, \"A_mag\":+11.18}\n",
    "print(Sirius[\"RA\"])"
   ]
  },
  {
   "cell_type": "code",
   "execution_count": 126,
   "id": "db917c75-8c38-4b3b-930e-8218159b8b8d",
   "metadata": {},
   "outputs": [
    {
     "name": "stdout",
     "output_type": "stream",
     "text": [
      "[1, 2, 3, 5, 7, 11, 13, 17, 19, 23, 29, 31, 37, 41, 43, 47, 53, 59, 61, 67, 71, 73, 79, 83, 89, 97, 101, 103, 107, 109, 113, 127, 131, 137, 139, 149, 151, 157, 163, 167, 173, 179, 181, 191, 193, 197, 199, 211, 223, 227, 229, 233, 239, 241, 251, 257, 263, 269, 271, 277, 281, 283, 293, 307, 311, 313, 317, 331, 337, 347, 349, 353, 359, 367, 373, 379, 383, 389, 397, 401, 409, 419, 421, 431, 433, 439, 443, 449, 457, 461, 463, 467, 479, 487, 491, 499, 503, 509, 521, 523, 541, 547, 557, 563, 569, 571, 577, 587, 593, 599, 601, 607, 613, 617, 619, 631, 641, 643, 647, 653, 659, 661, 673, 677, 683, 691, 701, 709, 719, 727, 733, 739, 743, 751, 757, 761, 769, 773, 787, 797, 809, 811, 821, 823, 827, 829, 839, 853, 857, 859, 863, 877, 881, 883, 887, 907, 911, 919, 929, 937, 941, 947, 953, 967, 971, 977, 983, 991, 997]\n"
     ]
    }
   ],
   "source": [
    "#This is Exercise 1, lesson 3 (if functions)\n",
    "#goal = write a program, that returns all prime numbers that are less than 1000\n",
    "primes = []\n",
    "\n",
    "#kids don't do what i'm about to do, it's wildly innefficient\n",
    "for i in range(1,1000):\n",
    " working_list=[]\n",
    " for j in range(2, i):\n",
    "  rem = i % j\n",
    "  working_list.append(rem)\n",
    " check = 0 in working_list\n",
    " if check == False:\n",
    "   primes.append(i)\n",
    "\n",
    "  \n",
    "\n",
    "print(primes)"
   ]
  },
  {
   "cell_type": "code",
   "execution_count": 12,
   "id": "618174f2-1934-4a12-9381-a830d919145a",
   "metadata": {},
   "outputs": [
    {
     "name": "stdout",
     "output_type": "stream",
     "text": [
      "[0, 1, 1, 2, 3, 5, 8, 13, 21, 34, 55, 89, 144, 233, 377, 610, 987, 1597, 2584, 4181, 6765, 10946, 17711, 28657, 46368, 75025]\n"
     ]
    }
   ],
   "source": [
    "#This is Exercise 3, lesson 3 (while loops)\n",
    "#Using a while loop, create a program that returns all the fibbonaci numbers until 100000\n",
    "fibbonaci = [0, 1]\n",
    "\n",
    "while fibbonaci[-1] < 100000:\n",
    " k = fibbonaci[-1] + fibbonaci[-2]\n",
    " fibbonaci.append(k)\n",
    "fibbonaci.pop(-1)\n",
    "print(fibbonaci)"
   ]
  },
  {
   "cell_type": "code",
   "execution_count": null,
   "id": "9b46e178-484a-49e0-8ed1-d140ddc5619a",
   "metadata": {},
   "outputs": [],
   "source": []
  }
 ],
 "metadata": {
  "kernelspec": {
   "display_name": "Python 3 (ipykernel)",
   "language": "python",
   "name": "python3"
  },
  "language_info": {
   "codemirror_mode": {
    "name": "ipython",
    "version": 3
   },
   "file_extension": ".py",
   "mimetype": "text/x-python",
   "name": "python",
   "nbconvert_exporter": "python",
   "pygments_lexer": "ipython3",
   "version": "3.10.12"
  }
 },
 "nbformat": 4,
 "nbformat_minor": 5
}
