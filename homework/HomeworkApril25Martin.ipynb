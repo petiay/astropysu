{
 "cells": [
  {
   "cell_type": "code",
   "execution_count": 10,
   "id": "47530827-b673-4536-90e4-0a6ab2425f08",
   "metadata": {},
   "outputs": [
    {
     "name": "stdout",
     "output_type": "stream",
     "text": [
      "False\n"
     ]
    }
   ],
   "source": [
    "#This is exercise 1 of https://github.com/astropy/astropy-workshop/blob/main/02-PythonIntro/04.%20Functions.ipynb\n",
    "\n",
    "def isthisprime (a):\n",
    "    primes = []\n",
    "\n",
    "#kids don't do what i'm about to do, it's wildly innefficient\n",
    "    for i in range(1,1000):\n",
    "     working_list=[]\n",
    "     for j in range(2, i):\n",
    "      rem = i % j\n",
    "      working_list.append(rem)\n",
    "     check = 0 in working_list\n",
    "     if check == False:\n",
    "       primes.append(i)\n",
    "    if a in primes:\n",
    "      return(True)\n",
    "    else: return (False)\n",
    "\n",
    "print(isthisprime(8))\n"
   ]
  },
  {
   "cell_type": "code",
   "execution_count": 15,
   "id": "f080a43d-49b0-47b8-a399-5df356fb5a6e",
   "metadata": {},
   "outputs": [
    {
     "name": "stdout",
     "output_type": "stream",
     "text": [
      "3628800\n"
     ]
    }
   ],
   "source": [
    "#This is exercise 2 of said github\n",
    "\n",
    "def Factorial (b):\n",
    "    result = 1\n",
    "    while b > 1:\n",
    "        result = result * b\n",
    "        b = b-1\n",
    "    return result\n",
    "\n",
    "print(Factorial(10))"
   ]
  },
  {
   "cell_type": "code",
   "execution_count": null,
   "id": "e70b1b8e-b948-46fc-887b-1654cc3984e1",
   "metadata": {},
   "outputs": [],
   "source": []
  }
 ],
 "metadata": {
  "kernelspec": {
   "display_name": "Python 3 (ipykernel)",
   "language": "python",
   "name": "python3"
  },
  "language_info": {
   "codemirror_mode": {
    "name": "ipython",
    "version": 3
   },
   "file_extension": ".py",
   "mimetype": "text/x-python",
   "name": "python",
   "nbconvert_exporter": "python",
   "pygments_lexer": "ipython3",
   "version": "3.10.12"
  }
 },
 "nbformat": 4,
 "nbformat_minor": 5
}
