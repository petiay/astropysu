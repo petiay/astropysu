{
 "cells": [
  {
   "cell_type": "code",
   "execution_count": 5,
   "id": "21dfc1c8-0588-4eda-9f3c-12e28bb42687",
   "metadata": {},
   "outputs": [],
   "source": [
    "# https://github.com/astropy/astropy-workshop/blob/main/02b-OOP/intro_to_oop.ipynb\n",
    "#april 25\n",
    "\n",
    "import numpy as np\n",
    "%matplotlib inline\n",
    "import matplotlib.pyplot as plt\n",
    "from glob import glob\n",
    "from itertools import cycle"
   ]
  },
  {
   "cell_type": "code",
   "execution_count": 6,
   "id": "c73ce8c0-8be1-4ddb-92e5-53282524f65c",
   "metadata": {},
   "outputs": [],
   "source": [
    "#nachi tova e object oriented programming (OOP), ideyata e che e polezno za golemi masivi danni\n",
    "\n",
    "#tova e definirane na obekta (the first O in OOP) - v sluchaya LightCurves\n",
    "class LightCurve: #tova e imeto na obekta\n",
    "    def __init__(self, times=None, fluxes=None, uncertainties=None, flags=None, name = None): #nalyavo imame definirane na promenlivi, nadolu e obosobyavane kato atributi\n",
    "        self.times = times\n",
    "        self.fluxes = fluxes\n",
    "        self.uncertainties = uncertainties\n",
    "        self.flags = flags\n",
    "        self.name = name\n",
    "\n",
    "    def plot(self, color=None):#, linestyle=None, linewidth=None, label=None, ax=None):\n",
    "        \"\"\" Plot the light curve\"\"\" #dokumentaciya kakvo pravi funkciyata, very good to do that!!!\n",
    "        plt.errorbar(self.times, self.fluxes, self.uncertainties, self.uncertainties, fmt = '.',\n",
    "                    color = color)#, linestyle = linestyle,label=self.name, linewidth = linewidth)\n",
    "        #plt.xlabel('Time [days]')\n",
    "        #plt.ylabel('Flux [erg]')\n",
    "        #plt.legend() #inside the object, call to such things using their attributes\n",
    "\n",
    "    @classmethod\n",
    "    def from_txt(cls, path):\n",
    "        data = np.loadtxt(path)\n",
    "\n",
    "        times = data[0, :]\n",
    "        fluxes = data[1,:]\n",
    "        uncertainties = data[2, :]\n",
    "        flags = data[3,:]\n",
    "\n",
    "        return cls(times=times, fluxes=fluxes,\n",
    "                   uncertainties=uncertainties,flags=flags)\n",
    "    def clean(self, order=1):\n",
    "        poly_params = np.polyfit(self.times,self.fluxes,order)\n",
    "        best_fit_model = np.polyval(poly_params, self.times)\n",
    "\n",
    "        self.fluxes /= best_fit_model\n",
    "        self.uncertainties /= best_fit_model\n",
    "\n",
    "        self.cleaned = True\n",
    "        "
   ]
  },
  {
   "cell_type": "code",
   "execution_count": 7,
   "id": "aacbd4fa-62f1-4645-94d5-b8d6d079ed65",
   "metadata": {},
   "outputs": [
    {
     "ename": "TypeError",
     "evalue": "LightCurve.plot() got an unexpected keyword argument 'label'",
     "output_type": "error",
     "traceback": [
      "\u001b[0;31m---------------------------------------------------------------------------\u001b[0m",
      "\u001b[0;31mTypeError\u001b[0m                                 Traceback (most recent call last)",
      "Cell \u001b[0;32mIn[7], line 4\u001b[0m\n\u001b[1;32m      2\u001b[0m lc0 \u001b[38;5;241m=\u001b[39m LightCurve\u001b[38;5;241m.\u001b[39mfrom_txt(path)\n\u001b[1;32m      3\u001b[0m n1 \u001b[38;5;241m=\u001b[39m lc0\u001b[38;5;241m.\u001b[39mname\n\u001b[0;32m----> 4\u001b[0m \u001b[43mlc0\u001b[49m\u001b[38;5;241;43m.\u001b[39;49m\u001b[43mplot\u001b[49m\u001b[43m(\u001b[49m\u001b[43mlabel\u001b[49m\u001b[43m \u001b[49m\u001b[38;5;241;43m=\u001b[39;49m\u001b[43m \u001b[49m\u001b[43mn1\u001b[49m\u001b[43m)\u001b[49m\n",
      "\u001b[0;31mTypeError\u001b[0m: LightCurve.plot() got an unexpected keyword argument 'label'"
     ]
    }
   ],
   "source": [
    "path= \"sample_lcs/lc_0.txt\"\n",
    "lc0 = LightCurve.from_txt(path)\n",
    "n1 = lc0.name\n",
    "lc0.plot(label = n1)"
   ]
  },
  {
   "cell_type": "code",
   "execution_count": null,
   "id": "5edd448e-0033-4238-8680-63ffd5dd596d",
   "metadata": {},
   "outputs": [],
   "source": [
    "lc_paths = glob('sample_lcs/*.txt')\n",
    "lightcurves = [LightCurve.from_txt(path) for path in lc_paths]\n",
    "c = cycle ([\"#500000\", \"#005000\", \"#000050\"])\n",
    "\n",
    "for lightcurve in lightcurves:\n",
    "    print(lightcurve.fluxes.mean())\n",
    "    lightcurve.clean()\n",
    "    lightcurve.plot(next(c))\n",
    "\n",
    "lightcurves[0].cleaned"
   ]
  },
  {
   "cell_type": "code",
   "execution_count": 4,
   "id": "6108115e-c41f-49d5-9630-cc361e7e7eb6",
   "metadata": {},
   "outputs": [
    {
     "ename": "TypeError",
     "evalue": "LightCurve.plot() takes from 1 to 2 positional arguments but 6 were given",
     "output_type": "error",
     "traceback": [
      "\u001b[0;31m---------------------------------------------------------------------------\u001b[0m",
      "\u001b[0;31mTypeError\u001b[0m                                 Traceback (most recent call last)",
      "Cell \u001b[0;32mIn[4], line 26\u001b[0m\n\u001b[1;32m     24\u001b[0m ax1 \u001b[38;5;241m=\u001b[39m plt\u001b[38;5;241m.\u001b[39msubplot(\u001b[38;5;241m211\u001b[39m)\n\u001b[1;32m     25\u001b[0m ax2 \u001b[38;5;241m=\u001b[39m plt\u001b[38;5;241m.\u001b[39msubplot(\u001b[38;5;241m212\u001b[39m)\n\u001b[0;32m---> 26\u001b[0m \u001b[43mprox_cen\u001b[49m\u001b[38;5;241;43m.\u001b[39;49m\u001b[43mplot\u001b[49m\u001b[43m(\u001b[49m\u001b[38;5;124;43m'\u001b[39;49m\u001b[38;5;124;43mgreen\u001b[39;49m\u001b[38;5;124;43m'\u001b[39;49m\u001b[43m,\u001b[49m\u001b[43m \u001b[49m\u001b[38;5;124;43m'\u001b[39;49m\u001b[38;5;124;43m-\u001b[39;49m\u001b[38;5;124;43m'\u001b[39;49m\u001b[43m,\u001b[49m\u001b[43m \u001b[49m\u001b[38;5;241;43m0.7\u001b[39;49m\u001b[43m,\u001b[49m\u001b[43m \u001b[49m\u001b[43mname\u001b[49m\u001b[43m,\u001b[49m\u001b[43m \u001b[49m\u001b[43max1\u001b[49m\u001b[43m)\u001b[49m\n\u001b[1;32m     27\u001b[0m cen_a\u001b[38;5;241m.\u001b[39mplot(\u001b[38;5;124m'\u001b[39m\u001b[38;5;124mb\u001b[39m\u001b[38;5;124m'\u001b[39m, \u001b[38;5;124m'\u001b[39m\u001b[38;5;124m-\u001b[39m\u001b[38;5;124m'\u001b[39m, \u001b[38;5;241m0.7\u001b[39m, name2, ax2)\n",
      "\u001b[0;31mTypeError\u001b[0m: LightCurve.plot() takes from 1 to 2 positional arguments but 6 were given"
     ]
    },
    {
     "data": {
      "image/png": "[encoded data removed]",
      "text/plain": [
       "<Figure size 1500x1000 with 2 Axes>"
      ]
     },
     "metadata": {},
     "output_type": "display_data"
    }
   ],
   "source": [
    "        \n",
    "times = np.linspace(0, 10, 100) #Tova e Fake Data, ideyata e da pokazhem kak raboti definiraniyat po-gore obekt, bez da teglim typo kolichestvo data)\n",
    "sigma = 0.01\n",
    "fluxes = 1.2 + sigma * np.random.randn(len(times))\n",
    "uncertainties = sigma * np.ones_like(len(fluxes))\n",
    "flags = np.random.randint(0, 5, len(fluxes))\n",
    "name = 'Proxima Centauri'\n",
    "\n",
    "times2 = np.linspace(0, 10, 100) #Tova e Fake Data, ideyata e da pokazhem kak raboti definiraniyat po-gore obekt, bez da teglim typo kolichestvo data)\n",
    "sigma2 = 0.015\n",
    "fluxes2 = 1 + sigma * np.random.randn(len(times))\n",
    "uncertainties2 = sigma * np.ones_like(len(fluxes))\n",
    "flags2 = np.random.randint(0, 5, len(fluxes))\n",
    "name2 = 'Aplha Centauri A'\n",
    "\n",
    "\n",
    "prox_cen = LightCurve(times = times, fluxes = fluxes, \n",
    "                      uncertainties = uncertainties, flags = flags, \n",
    "                      name = name)\n",
    "cen_a = LightCurve(times = times2, fluxes = fluxes2, \n",
    "                      uncertainties = uncertainties2, flags = flags2, \n",
    "                      name = name2)\n",
    "#prox_cen.times #this will show u a table with all the times of the \"measurements\"\n",
    "fig = plt.figure(figsize=(15,10))\n",
    "ax1 = plt.subplot(211)\n",
    "ax2 = plt.subplot(212)\n",
    "prox_cen.plot('green', '-', 0.7, name, ax1)\n",
    "cen_a.plot('b', '-', 0.7, name2, ax2)"
   ]
  },
  {
   "cell_type": "code",
   "execution_count": null,
   "id": "53fded00-f2c9-462b-8114-14a8a0b3d3e2",
   "metadata": {},
   "outputs": [],
   "source": []
  },
  {
   "cell_type": "code",
   "execution_count": null,
   "id": "05483346-8f38-4cf7-80bf-6ef44746a778",
   "metadata": {},
   "outputs": [],
   "source": []
  },
  {
   "cell_type": "code",
   "execution_count": null,
   "id": "55b25593-e604-4331-bb6d-395c485896a9",
   "metadata": {},
   "outputs": [],
   "source": []
  },
  {
   "cell_type": "code",
   "execution_count": null,
   "id": "c5b245f1-d978-4bfb-855e-60a7ec36a928",
   "metadata": {},
   "outputs": [],
   "source": []
  }
 ],
 "metadata": {
  "kernelspec": {
   "display_name": "Python 3 (ipykernel)",
   "language": "python",
   "name": "python3"
  },
  "language_info": {
   "codemirror_mode": {
    "name": "ipython",
    "version": 3
   },
   "file_extension": ".py",
   "mimetype": "text/x-python",
   "name": "python",
   "nbconvert_exporter": "python",
   "pygments_lexer": "ipython3",
   "version": "3.10.12"
  }
 },
 "nbformat": 4,
 "nbformat_minor": 5
}
